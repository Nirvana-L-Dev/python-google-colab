{
  "nbformat": 4,
  "nbformat_minor": 0,
  "metadata": {
    "colab": {
      "provenance": []
    },
    "kernelspec": {
      "name": "python3",
      "display_name": "Python 3"
    },
    "language_info": {
      "name": "python"
    }
  },
  "cells": [
    {
      "cell_type": "markdown",
      "source": [
        "# **Array Creation**"
      ],
      "metadata": {
        "id": "0w1KhvrkGX3a"
      }
    },
    {
      "cell_type": "markdown",
      "source": [
        "1. Create a 1D NumPy array of integers from 10 to 19.\n",
        "2. Create a 2D NumPy array of shape (3, 3) filled with zeros.\n",
        "3. Create a 2D NumPy array of shape (4, 4) filled with ones.\n",
        "4. Create a 1D NumPy array with values ranging from 0 to 50, with a step size of 5.\n",
        "5. Create a 1D NumPy array with 10 equally spaced values between 1 and 20.\n",
        "Random Arrays\n",
        "\n"
      ],
      "metadata": {
        "id": "sJnak9RsGcTY"
      }
    },
    {
      "cell_type": "markdown",
      "source": [
        "# **Array Operations**\n"
      ],
      "metadata": {
        "id": "5d8I9-mgG6Xe"
      }
    },
    {
      "cell_type": "markdown",
      "source": [
        "\n",
        "1. Create two 1D NumPy arrays a and b of length 5 with arbitrary values. Perform element-wise addition, subtraction, multiplication, and division between these arrays.\n",
        "2. Given two 2D arrays A and B, both of shape (2, 2), perform element-wise addition, subtraction, multiplication, and division"
      ],
      "metadata": {
        "id": "L-YViertG_zR"
      }
    },
    {
      "cell_type": "markdown",
      "source": [
        "# **Indexing and Slicing**"
      ],
      "metadata": {
        "id": "bP282YckHhw3"
      }
    },
    {
      "cell_type": "markdown",
      "source": [
        "\n",
        "1. Given a 1D array a of length 10, print the first element, last element, and elements from index 3 to 7.\n",
        "2. Given a 2D array A of shape (4, 4), extract and print the element at row 2, column 3.\n",
        "3. Modify the value at row 1, column 1 in a 3x3 array A to 99."
      ],
      "metadata": {
        "id": "QErql3edHjFO"
      }
    },
    {
      "cell_type": "markdown",
      "source": [
        "1. Create a 1D array of 20 integers and slice elements from index 5 to 15.\n",
        "2. Given a 2D array A of shape (5, 5), extract and print the subarray consisting of the first three rows and all columns."
      ],
      "metadata": {
        "id": "TQZG7f9VHzJ9"
      }
    },
    {
      "cell_type": "markdown",
      "source": [
        "# **Reshaping**"
      ],
      "metadata": {
        "id": "zZleEHGeISBp"
      }
    },
    {
      "cell_type": "markdown",
      "source": [
        "1. Create a 1D array of 12 elements and reshape it into a 3x4 matrix.\n",
        "2. Given a 2D array of shape (6, 4), reshape it to (3, 8)."
      ],
      "metadata": {
        "id": "0_hFzU-SIU6S"
      }
    },
    {
      "cell_type": "markdown",
      "source": [
        "# **Advanced Numpy Concepts**"
      ],
      "metadata": {
        "id": "3YmLWmFBIc0q"
      }
    },
    {
      "cell_type": "code",
      "source": [
        "import numpy as np\n",
        "\n",
        "# Create a 2D array A\n",
        "A = np.array([[1, 2, 3],\n",
        "              [4, 5, 6],\n",
        "              [7, 8, 9]])\n",
        "\n",
        "# Calculate the sum of each column\n",
        "column_sums = np.sum(A, axis=0)\n",
        "\n",
        "# Calculate the sum of each row\n",
        "row_sums = np.sum(A, axis=1)\n",
        "\n",
        "# Print the results\n",
        "print(\"Array A:\")\n",
        "print(A)\n",
        "print(\"\\nSum of each column:\")\n",
        "print(column_sums)\n",
        "print(\"\\nSum of each row:\")\n",
        "print(row_sums)\n"
      ],
      "metadata": {
        "id": "Q8qdLLuTIb6L"
      },
      "execution_count": null,
      "outputs": []
    },
    {
      "cell_type": "code",
      "source": [
        "import numpy as np\n",
        "\n",
        "# Create a 1D array\n",
        "a = np.array([1, 2, 3, 4, 5, 6, 7, 8, 9, 10])\n"
      ],
      "metadata": {
        "id": "whlZMldQIb2v"
      },
      "execution_count": 7,
      "outputs": []
    },
    {
      "cell_type": "code",
      "source": [
        "# Create a boolean array where condition is True\n",
        "condition = a > 5\n",
        "print(condition)\n"
      ],
      "metadata": {
        "id": "_dP62huCIb0S"
      },
      "execution_count": 7,
      "outputs": []
    },
    {
      "cell_type": "code",
      "source": [
        "# Use boolean indexing to filter the array\n",
        "filtered_a = a[condition]\n",
        "print(filtered_a)\n"
      ],
      "metadata": {
        "id": "rocb_klhJTmj"
      },
      "execution_count": 7,
      "outputs": []
    },
    {
      "cell_type": "code",
      "source": [
        "# Create a 1D array\n",
        "b = np.array([10, 15, 20, 25, 30, 35, 40, 45, 50, 55])\n",
        "\n",
        "# Condition for elements greater than 20 and less than 50\n",
        "condition = (b > 20) & (b < 50)\n",
        "print(condition)\n"
      ],
      "metadata": {
        "id": "0oXmDNt0JTY7"
      },
      "execution_count": 7,
      "outputs": []
    },
    {
      "cell_type": "code",
      "source": [
        "# Filter elements\n",
        "filtered_b = b[condition]\n",
        "print(filtered_b)\n"
      ],
      "metadata": {
        "id": "fAPFdAZzJlTC"
      },
      "execution_count": 7,
      "outputs": []
    },
    {
      "cell_type": "code",
      "source": [
        "indices = np.where(a > 5)\n",
        "print(indices)\n"
      ],
      "metadata": {
        "id": "8GiyAvfLJlP5"
      },
      "execution_count": 7,
      "outputs": []
    }
  ]
}